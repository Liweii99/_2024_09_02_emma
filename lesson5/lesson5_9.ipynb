{
 "cells": [
  {
   "cell_type": "code",
   "execution_count": null,
   "metadata": {},
   "outputs": [
    {
     "name": "stdout",
     "output_type": "stream",
     "text": [
      "限300內,您的值301,請重新輸入\n",
      "限300內,您的值322,請重新輸入\n",
      "身高=196,體重=222\n",
      "BMI=57.79\n",
      "重度肥胖：BMI≧35\n",
      "程式結束\n"
     ]
    }
   ],
   "source": [
    "\n",
    "def input_data(): #0914\n",
    "    while True:\n",
    "        try:    \n",
    "            cm = int(input(\"請輸入身高(公分):\"))\n",
    "            if cm > 300:\n",
    "                raise Exception(\"超過300公分\")\n",
    "            break\n",
    "        except ValueError:\n",
    "            print('輸入格式錯誤,請重新輸入')\n",
    "            continue\n",
    "        except Exception as e:\n",
    "            print(f'限300內,您的值{cm}請重新輸入')\n",
    "            continue\n",
    "    while True:\n",
    "        try:    \n",
    "            kg = int(input(\"請輸入體重(公斤):\"))\n",
    "            if kg > 300:\n",
    "                raise Exception(\"超過300公斤\")\n",
    "            break\n",
    "        except ValueError:\n",
    "            print('輸入格式錯誤,請重新輸入')\n",
    "            continue\n",
    "        except Exception as e:\n",
    "            print(f'限300內,您的值{kg}請重新輸入')\n",
    "            continue\n",
    "    return cm,kg\n",
    "\n",
    "def get_status(bmi:float)->str: #0918\n",
    "    if BMI >=35:\n",
    "        print(\"重度肥胖：BMI≧35\")\n",
    "    elif BMI >=30:\n",
    "        print(\"中度肥胖：30≦BMI\")\n",
    "    elif BMI >=27:\n",
    "        print(\"輕度肥胖：27≦BMI\")\n",
    "    elif BMI >=24:\n",
    "        print(\"過重\")\n",
    "    elif BMI >=18.5:\n",
    "        print(\"正常範圍\")\n",
    "    else:\n",
    "        print(\"體重過輕\")\n",
    "\n",
    "while True:\n",
    "    kg=0  #清除變數\n",
    "    cm=0  #清除變數\n",
    "    cm,kg = input_data() #呼叫function\n",
    "\n",
    "    print(f'身高={cm},體重={kg}')\n",
    "    cm=(cm/100)*(cm/100)\n",
    "    BMI=round((kg/cm),2)\n",
    "    print(f'BMI={BMI}')\n",
    "    get_status(BMI) #0918 呼喚\n",
    "    \n",
    "    play_again = input(\"還要繼續嗎?(y,n)\")\n",
    "    if play_again == \"n\":\n",
    "        break\n",
    "\n",
    "print('程式結束')"
   ]
  },
  {
   "cell_type": "code",
   "execution_count": null,
   "metadata": {},
   "outputs": [],
   "source": []
  }
 ],
 "metadata": {
  "kernelspec": {
   "display_name": "venv1",
   "language": "python",
   "name": "python3"
  },
  "language_info": {
   "codemirror_mode": {
    "name": "ipython",
    "version": 3
   },
   "file_extension": ".py",
   "mimetype": "text/x-python",
   "name": "python",
   "nbconvert_exporter": "python",
   "pygments_lexer": "ipython3",
   "version": "3.11.10"
  }
 },
 "nbformat": 4,
 "nbformat_minor": 2
}
