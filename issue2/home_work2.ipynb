{
 "cells": [
  {
   "cell_type": "code",
   "execution_count": 36,
   "metadata": {},
   "outputs": [
    {
     "name": "stdout",
     "output_type": "stream",
     "text": [
      "身高150.0公分，體重36.0公斤\n",
      "BMI是:16.0\n",
      "您的體重過輕\n",
      "謝謝您的回應\n"
     ]
    }
   ],
   "source": [
    "#BMI計算公式: BMI=體重(Kg)/身高(m)**2\n",
    "try:   \n",
    "    is_add = input(\"您是否為成年人?(y,n)\")\n",
    "    if is_add == 'y':\n",
    "        height = float(input(\"請輸入身高(公分):\"))\n",
    "        if height > 190 or height < 140:\n",
    "            raise Exception(\"請接洽醫師\")\n",
    "        weight = float(input(\"請輸入體重(公斤)\"))\n",
    "        if weight>120 or weight<30:\n",
    "            raise Exception(\"請接洽醫師\") \n",
    "        print(f\"身高{height}公分，體重{weight}公斤\") \n",
    "        \n",
    "        bmi  = weight/((height/100)**2)\n",
    "        print(f\"BMI是:{bmi:.1f}\")\n",
    "        if bmi >=35:\n",
    "            print(\"您是重度肥胖\")\n",
    "        elif bmi>=30:\n",
    "            print(\"您是中度肥胖\")\n",
    "        elif bmi>=27:\n",
    "            print(\"您是輕度度肥胖\")\n",
    "        elif bmi>=24:\n",
    "            print(\"您的體重過重\")    \n",
    "        elif bmi<18.5:\n",
    "            print(\"您的體重過輕\")\n",
    "        else:\n",
    "            print(\"您的體重正常\")    \n",
    "except ValueError:\n",
    "    print(\"輸入格式有錯\")\n",
    "except Exception as e:\n",
    "    print(f\"異常訊息:{e}\")\n",
    "\n",
    "print(\"謝謝您的回應\")"
   ]
  },
  {
   "cell_type": "code",
   "execution_count": null,
   "metadata": {},
   "outputs": [],
   "source": [
    "#BMI計算公式: BMI=體重(Kg)/身高(m)**2\n",
    "try:   \n",
    "    is_add = input(\"您是否為成年人?(y,n)\")\n",
    "    \n",
    "    if is_add == 'y':\n",
    "    height = float(input(\"請輸入身高(公分):\"))\n",
    "    if height > 190:\n",
    "            raise Exception(\"請接洽醫師\")\n",
    "    weight = float(input(\"請輸入體重(公斤)\"))\n",
    "    print(f\"身高{height}公分，體重{weight}公斤\") \n",
    "    bmi  = weight/((height/100)**2)\n",
    "    print(f\"BMI是:{bmi:.1f}\")\n",
    "\n",
    "    if bmi >=35:\n",
    "        print(\"您是重度肥胖\")\n",
    "    elif bmi>=30:\n",
    "        print(\"您是中度肥胖\")\n",
    "    elif bmi>=27:\n",
    "        print(\"您是輕度度肥胖\")\n",
    "    elif bmi>=24:\n",
    "        print(\"您的體重過重\")    \n",
    "    elif bmi<18.5:\n",
    "        print(\"您的體重過輕\")\n",
    "\n",
    "    else:\n",
    "        print(\"您的體重正常\")\n",
    "    \n",
    "except ValueError:\n",
    "    print(\"輸入格式有錯\")\n",
    "except Exception as e:\n",
    "    print(f\"異常訊息:{e}\")"
   ]
  }
 ],
 "metadata": {
  "kernelspec": {
   "display_name": "Python 3",
   "language": "python",
   "name": "python3"
  },
  "language_info": {
   "codemirror_mode": {
    "name": "ipython",
    "version": 3
   },
   "file_extension": ".py",
   "mimetype": "text/x-python",
   "name": "python",
   "nbconvert_exporter": "python",
   "pygments_lexer": "ipython3",
   "version": "3.12.3"
  }
 },
 "nbformat": 4,
 "nbformat_minor": 2
}
