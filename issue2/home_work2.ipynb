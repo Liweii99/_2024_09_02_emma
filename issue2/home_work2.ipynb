{
 "cells": [
  {
   "cell_type": "code",
   "execution_count": 1,
   "metadata": {},
   "outputs": [
    {
     "name": "stdout",
     "output_type": "stream",
     "text": [
      "身高162.0公分，體重50.0公斤\n",
      "BMI是:19.1\n",
      "您的體重正常\n",
      "謝謝您的回應\n"
     ]
    }
   ],
   "source": [
    "#BMI計算公式: BMI=體重(Kg)/身高(m)**2\n",
    "try:   \n",
    "    is_add = input(\"您是否為成年人?(y,n)\")\n",
    "    if is_add == 'y':\n",
    "        height = float(input(\"請輸入身高(公分):\"))\n",
    "        if height > 190 or height < 140:\n",
    "            raise Exception(\"請接洽醫師\")\n",
    "        weight = float(input(\"請輸入體重(公斤)\"))\n",
    "        if weight>120 or weight<30:\n",
    "            raise Exception(\"請接洽醫師\") \n",
    "        print(f\"身高{height}公分，體重{weight}公斤\") \n",
    "        \n",
    "        bmi  = weight/((height/100)**2)\n",
    "        print(f\"BMI是:{bmi:.1f}\")\n",
    "        if bmi >=35:\n",
    "            print(\"您是重度肥胖\")\n",
    "        elif bmi>=30:\n",
    "            print(\"您是中度肥胖\")\n",
    "        elif bmi>=27:\n",
    "            print(\"您是輕度度肥胖\")\n",
    "        elif bmi>=24:\n",
    "            print(\"您的體重過重\")    \n",
    "        elif bmi<18.5:\n",
    "            print(\"您的體重過輕\")\n",
    "        else:\n",
    "            print(\"您的體重正常\")    \n",
    "except ValueError:\n",
    "    print(\"輸入格式有錯\")\n",
    "except Exception as e:\n",
    "    print(f\"異常訊息:{e}\")\n",
    "\n",
    "print(\"謝謝您的回應\")"
   ]
  },
  {
   "cell_type": "code",
   "execution_count": 1,
   "metadata": {},
   "outputs": [
    {
     "ename": "IndentationError",
     "evalue": "expected an indented block after 'if' statement on line 5 (3093522359.py, line 6)",
     "output_type": "error",
     "traceback": [
      "\u001b[1;36m  Cell \u001b[1;32mIn[1], line 6\u001b[1;36m\u001b[0m\n\u001b[1;33m    height = float(input(\"請輸入身高(公分):\"))\u001b[0m\n\u001b[1;37m    ^\u001b[0m\n\u001b[1;31mIndentationError\u001b[0m\u001b[1;31m:\u001b[0m expected an indented block after 'if' statement on line 5\n"
     ]
    }
   ],
   "source": [
    "#BMI計算公式: BMI=體重(Kg)/身高(m)**2\n",
    "try:   \n",
    "    is_add = input(\"您是否為成年人?(y,n)\")\n",
    "    \n",
    "    if is_add == 'y':\n",
    "    height = float(input(\"請輸入身高(公分):\"))\n",
    "    if height > 190:\n",
    "            raise Exception(\"請接洽醫師\")\n",
    "    weight = float(input(\"請輸入體重(公斤)\"))\n",
    "    print(f\"身高{height}公分，體重{weight}公斤\") \n",
    "    bmi  = weight/((height/100)**2)\n",
    "    print(f\"BMI是:{bmi:.1f}\")\n",
    "\n",
    "    if bmi >=35:\n",
    "        print(\"您是重度肥胖\")\n",
    "    elif bmi>=30:\n",
    "        print(\"您是中度肥胖\")\n",
    "    elif bmi>=27:\n",
    "        print(\"您是輕度度肥胖\")\n",
    "    elif bmi>=24:\n",
    "        print(\"您的體重過重\")    \n",
    "    elif bmi<18.5:\n",
    "        print(\"您的體重過輕\")\n",
    "\n",
    "    else:\n",
    "        print(\"您的體重正常\")\n",
    "    \n",
    "except ValueError:\n",
    "    print(\"輸入格式有錯\")\n",
    "except Exception as e:\n",
    "    print(f\"異常訊息:{e}\")"
   ]
  }
 ],
 "metadata": {
  "kernelspec": {
   "display_name": "Python 3",
   "language": "python",
   "name": "python3"
  },
  "language_info": {
   "codemirror_mode": {
    "name": "ipython",
    "version": 3
   },
   "file_extension": ".py",
   "mimetype": "text/x-python",
   "name": "python",
   "nbconvert_exporter": "python",
   "pygments_lexer": "ipython3",
   "version": "3.11.9"
  }
 },
 "nbformat": 4,
 "nbformat_minor": 2
}
