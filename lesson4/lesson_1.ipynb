{
 "cells": [
  {
   "cell_type": "code",
   "execution_count": 1,
   "metadata": {},
   "outputs": [
    {
     "name": "stdout",
     "output_type": "stream",
     "text": [
      "可以考駕照\n",
      "應用程式結束\n"
     ]
    }
   ],
   "source": [
    "#if\n",
    "#雙向選擇\n",
    "age = 19\n",
    "if age<18:\n",
    "    print(\"不可以考駕照\")\n",
    "else:\n",
    "    print(\"可以考駕照\")\n",
    "print(\"應用程式結束\") #lut 的程式區塊一定執行"
   ]
  },
  {
   "cell_type": "code",
   "execution_count": 1,
   "metadata": {},
   "outputs": [
    {
     "name": "stdout",
     "output_type": "stream",
     "text": [
      "250 y\n"
     ]
    }
   ],
   "source": [
    "score=int(input(\"請輪入學生分數(最高分數300分):\"))\n",
    "is_add=input(\"學生是否符合加份條件?(y,n)\")#input左邊一定要有變數接收\n",
    "\n",
    "print(score,is_add)"
   ]
  },
  {
   "cell_type": "code",
   "execution_count": 1,
   "metadata": {},
   "outputs": [
    {
     "name": "stdout",
     "output_type": "stream",
     "text": [
      "315.0 y\n"
     ]
    }
   ],
   "source": [
    "#1學生總分為300\n",
    "#有些學生可以加分5%\n",
    "\n",
    "score=int(input(\"請輪入學生分數(最高分數300分):\"))\n",
    "is_add=input(\"學生是否符合加份條件?(y,n)\")#input左邊一定要有變數接收\n",
    "\n",
    "if is_add == 'y':\n",
    "    score *= 1.05\n",
    "    \n",
    "print(score,is_add)"
   ]
  },
  {
   "cell_type": "code",
   "execution_count": 3,
   "metadata": {},
   "outputs": [
    {
     "name": "stdout",
     "output_type": "stream",
     "text": [
      "學生分數是262.5\n"
     ]
    }
   ],
   "source": [
    "#2學生總分為300\n",
    "#有些學生可以加分5%\n",
    "\n",
    "score=int(input(\"請輪入學生分數(最高分數300分):\"))\n",
    "is_add=input(\"學生是否符合加份條件?(y,n)\")#input左邊一定要有變數接收\n",
    "\n",
    "if is_add == 'y': #單向選擇\n",
    "    score *= 1.05\n",
    "    \n",
    "#print(\"學生分數是\"+str(score))\n",
    "print(f'學生分數是{score}') #字串插補前面放 f"
   ]
  },
  {
   "cell_type": "code",
   "execution_count": 4,
   "metadata": {},
   "outputs": [
    {
     "ename": "ValueError",
     "evalue": "invalid literal for int() with base 10: '250a'",
     "output_type": "error",
     "traceback": [
      "\u001b[1;31m---------------------------------------------------------------------------\u001b[0m",
      "\u001b[1;31mValueError\u001b[0m                                Traceback (most recent call last)",
      "Cell \u001b[1;32mIn[4], line 5\u001b[0m\n\u001b[0;32m      1\u001b[0m \u001b[38;5;66;03m#學生總分為300\u001b[39;00m\n\u001b[0;32m      2\u001b[0m \u001b[38;5;66;03m#有些學生可以加分5%\u001b[39;00m\n\u001b[0;32m      3\u001b[0m \u001b[38;5;66;03m#如果加分超過300,就以300分以準\u001b[39;00m\n\u001b[1;32m----> 5\u001b[0m score\u001b[38;5;241m=\u001b[39m\u001b[38;5;28;43mint\u001b[39;49m\u001b[43m(\u001b[49m\u001b[38;5;28;43minput\u001b[39;49m\u001b[43m(\u001b[49m\u001b[38;5;124;43m\"\u001b[39;49m\u001b[38;5;124;43m請輪入學生分數(最高分數300分):\u001b[39;49m\u001b[38;5;124;43m\"\u001b[39;49m\u001b[43m)\u001b[49m\u001b[43m)\u001b[49m\n\u001b[0;32m      6\u001b[0m is_add\u001b[38;5;241m=\u001b[39m\u001b[38;5;28minput\u001b[39m(\u001b[38;5;124m\"\u001b[39m\u001b[38;5;124m學生是否符合加份條件?(y,n)\u001b[39m\u001b[38;5;124m\"\u001b[39m)\u001b[38;5;66;03m#input左邊一定要有變數接收\u001b[39;00m\n\u001b[0;32m      8\u001b[0m \u001b[38;5;28;01mif\u001b[39;00m is_add \u001b[38;5;241m==\u001b[39m \u001b[38;5;124m'\u001b[39m\u001b[38;5;124my\u001b[39m\u001b[38;5;124m'\u001b[39m:\n",
      "\u001b[1;31mValueError\u001b[0m: invalid literal for int() with base 10: '250a'"
     ]
    }
   ],
   "source": [
    "#3學生總分為300\n",
    "#有些學生可以加分5%\n",
    "#如果加分超過300,就以300分以準\n",
    "\n",
    "score=int(input(\"請輪入學生分數(最高分數300分):\"))\n",
    "is_add=input(\"學生是否符合加份條件?(y,n)\")#input左邊一定要有變數接收\n",
    "\n",
    "if is_add == 'y':\n",
    "    score *= 1.05\n",
    "    if score > 300: #槽狀判斷\n",
    "        score = 300\n",
    "\n",
    "#print('學生分數是'+ str(score))\n",
    "print(f'學生分數是{score}')\n"
   ]
  },
  {
   "cell_type": "code",
   "execution_count": 5,
   "metadata": {},
   "outputs": [
    {
     "name": "stdout",
     "output_type": "stream",
     "text": [
      "輸入格式有錯\n",
      "應用程式結束\n"
     ]
    }
   ],
   "source": [
    "#4學生總分為300\n",
    "#有些學生可以加分5%\n",
    "#如果加分超過300,就以300分以準\n",
    "try: #判斷程式是否有錯\n",
    "    score=int(input(\"請輪入學生分數(最高分數300分):\"))\n",
    "except ValueError: #except代表所有的錯誤\n",
    "    print(\"輸入格式有錯\")\n",
    "else:#與except只執行其中一個\n",
    "    is_add=input(\"學生是否符合加份條件?(y,n)\")\n",
    "\n",
    "    if is_add == 'y':\n",
    "        score *= 1.05\n",
    "        if score > 300: #槽狀判斷\n",
    "            score = 300\n",
    "\n",
    "    #print('學生分數是'+ str(score))\n",
    "    print(f'學生分數是{score}')\n",
    "print('應用程式結束')"
   ]
  },
  {
   "cell_type": "code",
   "execution_count": 1,
   "metadata": {},
   "outputs": [
    {
     "name": "stdout",
     "output_type": "stream",
     "text": [
      "輸入格式有錯\n",
      "應用程式結束\n"
     ]
    }
   ],
   "source": [
    "#5學生總分為300\n",
    "#有些學生可以加分5%\n",
    "#如果加分超過300,就以300分以準\n",
    "\n",
    "try:\n",
    "    score=int(input(\"請輪入學生分數(最高分數300分):\"))\n",
    "    #raise NameError\n",
    "except ValueError:#指定的錯誤\n",
    "    print(\"輸入格式有錯\")\n",
    "except Exception:#廣泛性的錯誤\n",
    "    print(\"不知名的錯誤\")\n",
    "else:\n",
    "    is_add=input(\"學生是否符合加份條件?(y,n)\")\n",
    "\n",
    "    if is_add == 'y':\n",
    "        score *= 1.05\n",
    "        if score > 300:\n",
    "             score = 300\n",
    "\n",
    "    #print('學生分數是'+ str(score))\n",
    "    print(f'學生分數是{score}')\n",
    "\n",
    "print(\"應用程式結束\")\n"
   ]
  },
  {
   "cell_type": "code",
   "execution_count": 7,
   "metadata": {},
   "outputs": [
    {
     "name": "stdout",
     "output_type": "stream",
     "text": [
      "輸入格式有錯\n",
      "應用程式結束\n"
     ]
    }
   ],
   "source": [
    "#6不要else\n",
    "#學生總分為300\n",
    "#有些學生可以加分5%\n",
    "#如果加分超過300,就以300分為準\n",
    "try:\n",
    "    score = int(input(\"請輸入學生分數(最高300分):\"))\n",
    "    is_add = input(\"學生是否符合加分條件?(y,n)\")\n",
    "\n",
    "    if is_add == 'y':\n",
    "        score *= 1.05\n",
    "        if score > 300:\n",
    "            score = 300\n",
    "\n",
    "    #print('學生分數是' + str(score))\n",
    "    print(f'學生分數是{score}')\n",
    "except ValueError:\n",
    "    print(\"輸入格式有錯\")\n",
    "except Exception:\n",
    "    print(\"不知名的錯誤\")\n",
    " \n",
    "print(\"應用程式結束\")"
   ]
  },
  {
   "cell_type": "code",
   "execution_count": 4,
   "metadata": {},
   "outputs": [
    {
     "name": "stdout",
     "output_type": "stream",
     "text": [
      "錯誤訊息:輸入分數不可超過300分\n",
      "應用程式結束\n"
     ]
    }
   ],
   "source": [
    "#7手動raise Exception\n",
    "# 學生總分為300\n",
    "#有些學生可以加分5%\n",
    "#如果加分超過300,就以300分為準\n",
    "\n",
    "\n",
    "try:\n",
    "    score = int(input(\"請輸入學生分數(最高300分):\"))\n",
    "    if score > 300:\n",
    "        raise Exception(\"輸入分數不可超過300分\")\n",
    "    is_add = input(\"學生是否符合加分條件?(y,n)\")\n",
    "\n",
    "    if is_add == 'y':\n",
    "        score *= 1.05\n",
    "        if score > 300:\n",
    "            score = 300\n",
    "\n",
    "    #print('學生分數是' + str(score))\n",
    "    print(f'學生分數是{score}')\n",
    "except ValueError:\n",
    "    print(\"輸入格式有錯\")\n",
    "except Exception as e:#e 錯誤訊息\n",
    "    print(f\"錯誤訊息:{e}\")\n",
    "\n",
    "print(\"應用程式結束\")"
   ]
  },
  {
   "cell_type": "code",
   "execution_count": 2,
   "metadata": {},
   "outputs": [
    {
     "name": "stdout",
     "output_type": "stream",
     "text": [
      "<80\n"
     ]
    }
   ],
   "source": [
    "#8多向選擇\n",
    "value = 75\n",
    "if value >=90:\n",
    "    print(\"90以上區段\")\n",
    "else:\n",
    "    if value >=80:\n",
    "        print(\">=80,<90\")\n",
    "    else:\n",
    "        print(\"<80\")"
   ]
  },
  {
   "cell_type": "code",
   "execution_count": 6,
   "metadata": {},
   "outputs": [
    {
     "name": "stdout",
     "output_type": "stream",
     "text": [
      "<60\n"
     ]
    }
   ],
   "source": [
    "#9多向選擇\n",
    "value = 59\n",
    "if value >=90:\n",
    "    print(\"90以上區段\")\n",
    "elif value >=80:\n",
    "    print(\">=80,<90\")\n",
    "elif value >=70:\n",
    "    print(\"<80,>=70\")\n",
    "elif value >=60:\n",
    "    print(\"<70,>=60\")\n",
    "else:\n",
    "    print(\"<60\")"
   ]
  },
  {
   "cell_type": "code",
   "execution_count": 42,
   "metadata": {},
   "outputs": [
    {
     "name": "stdout",
     "output_type": "stream",
     "text": [
      "<60\n"
     ]
    }
   ],
   "source": [
    "value = 59\n",
    "if value >= 90:\n",
    "    print(\"90以上區段\")\n",
    "elif value >= 80:    \n",
    "    print(\">=80,<90\")\n",
    "elif value >= 70:\n",
    "    print(\"<80,>=70\")\n",
    "elif value >=60:\n",
    "    print(\"<70,>=60\")\n",
    "else:\n",
    "    print(\"<60\")"
   ]
  },
  {
   "cell_type": "code",
   "execution_count": null,
   "metadata": {},
   "outputs": [],
   "source": []
  },
  {
   "cell_type": "markdown",
   "metadata": {},
   "source": []
  }
 ],
 "metadata": {
  "kernelspec": {
   "display_name": "Python 3",
   "language": "python",
   "name": "python3"
  },
  "language_info": {
   "codemirror_mode": {
    "name": "ipython",
    "version": 3
   },
   "file_extension": ".py",
   "mimetype": "text/x-python",
   "name": "python",
   "nbconvert_exporter": "python",
   "pygments_lexer": "ipython3",
   "version": "3.11.9"
  }
 },
 "nbformat": 4,
 "nbformat_minor": 2
}
